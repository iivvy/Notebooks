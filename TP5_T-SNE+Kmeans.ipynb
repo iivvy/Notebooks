{
 "cells": [
  {
   "cell_type": "code",
   "execution_count": 1,
   "id": "ca91322c",
   "metadata": {},
   "outputs": [],
   "source": [
    "import keras\n",
    "from keras.datasets import cifar10 \n",
    "import numpy as np\n",
    "import matplotlib.pyplot as plt\n",
    "from sklearn.preprocessing import StandardScaler\n",
    "from sklearn.cluster import KMeans\n",
    "import pandas as pd"
   ]
  },
  {
   "cell_type": "code",
   "execution_count": 2,
   "id": "38c99516",
   "metadata": {},
   "outputs": [],
   "source": [
    "(x_train,y_train), (x_test,y_test) = cifar10.load_data()"
   ]
  },
  {
   "cell_type": "code",
   "execution_count": 3,
   "id": "021f66f0",
   "metadata": {},
   "outputs": [
    {
     "name": "stdout",
     "output_type": "stream",
     "text": [
      "Training: (50000, 32, 32, 3)\n",
      "Test: (10000, 32, 32, 3)\n"
     ]
    }
   ],
   "source": [
    "#dataset shape\n",
    "print(\"Training: {}\".format(x_train.shape))\n",
    "print(\"Test: {}\".format(x_test.shape))"
   ]
  },
  {
   "cell_type": "code",
   "execution_count": 4,
   "id": "b7a32843",
   "metadata": {},
   "outputs": [
    {
     "name": "stdout",
     "output_type": "stream",
     "text": [
      "Number of Outputs:  10\n",
      "Number of Output Classes:  [0 1 2 3 4 5 6 7 8 9]\n"
     ]
    }
   ],
   "source": [
    "#number of classes in our dataset\n",
    "classes = np.unique(y_train)\n",
    "nClasses = len(classes)\n",
    "print('Number of Outputs: ', nClasses)\n",
    "print('Number of Output Classes: ', classes)"
   ]
  },
  {
   "cell_type": "code",
   "execution_count": 5,
   "id": "29afb57e",
   "metadata": {},
   "outputs": [],
   "source": [
    "# Reshape the data to be in the form of (num_samples, num_features) \n",
    "x=x_train\n",
    "x_train = x_train.reshape(x_train.shape[0], 32*32*3) \n",
    "x_test = x_test.reshape(x_test.shape[0], 32*32*3) \n",
    "  \n",
    "# Normalize the data \n",
    "x_train = x_train/255.0 \n",
    "x_test = x_test/255.0"
   ]
  },
  {
   "cell_type": "code",
   "execution_count": 6,
   "id": "cad0a3a7",
   "metadata": {},
   "outputs": [
    {
     "name": "stdout",
     "output_type": "stream",
     "text": [
      "Size of Data Frame: (50000, 3073)\n"
     ]
    }
   ],
   "source": [
    "# x_train_flat = x_train.reshape(-1,3072)\n",
    "feat_cols = ['pixel' + str(i) for i in range(x_train.shape[1])]\n",
    "df_cifar = pd.DataFrame(x_train, columns = feat_cols)\n",
    "df_cifar['Label'] = y_train\n",
    "print('Size of Data Frame: {}'.format(df_cifar.shape))"
   ]
  },
  {
   "cell_type": "code",
   "execution_count": 7,
   "id": "03d51c2a",
   "metadata": {},
   "outputs": [
    {
     "data": {
      "text/html": [
       "<div>\n",
       "<style scoped>\n",
       "    .dataframe tbody tr th:only-of-type {\n",
       "        vertical-align: middle;\n",
       "    }\n",
       "\n",
       "    .dataframe tbody tr th {\n",
       "        vertical-align: top;\n",
       "    }\n",
       "\n",
       "    .dataframe thead th {\n",
       "        text-align: right;\n",
       "    }\n",
       "</style>\n",
       "<table border=\"1\" class=\"dataframe\">\n",
       "  <thead>\n",
       "    <tr style=\"text-align: right;\">\n",
       "      <th></th>\n",
       "      <th>pixel0</th>\n",
       "      <th>pixel1</th>\n",
       "      <th>pixel2</th>\n",
       "      <th>pixel3</th>\n",
       "      <th>pixel4</th>\n",
       "      <th>pixel5</th>\n",
       "      <th>pixel6</th>\n",
       "      <th>pixel7</th>\n",
       "      <th>pixel8</th>\n",
       "      <th>pixel9</th>\n",
       "      <th>...</th>\n",
       "      <th>pixel3063</th>\n",
       "      <th>pixel3064</th>\n",
       "      <th>pixel3065</th>\n",
       "      <th>pixel3066</th>\n",
       "      <th>pixel3067</th>\n",
       "      <th>pixel3068</th>\n",
       "      <th>pixel3069</th>\n",
       "      <th>pixel3070</th>\n",
       "      <th>pixel3071</th>\n",
       "      <th>Label</th>\n",
       "    </tr>\n",
       "  </thead>\n",
       "  <tbody>\n",
       "    <tr>\n",
       "      <th>0</th>\n",
       "      <td>0.231373</td>\n",
       "      <td>0.243137</td>\n",
       "      <td>0.247059</td>\n",
       "      <td>0.168627</td>\n",
       "      <td>0.180392</td>\n",
       "      <td>0.176471</td>\n",
       "      <td>0.196078</td>\n",
       "      <td>0.188235</td>\n",
       "      <td>0.168627</td>\n",
       "      <td>0.266667</td>\n",
       "      <td>...</td>\n",
       "      <td>0.847059</td>\n",
       "      <td>0.721569</td>\n",
       "      <td>0.549020</td>\n",
       "      <td>0.592157</td>\n",
       "      <td>0.462745</td>\n",
       "      <td>0.329412</td>\n",
       "      <td>0.482353</td>\n",
       "      <td>0.360784</td>\n",
       "      <td>0.282353</td>\n",
       "      <td>6</td>\n",
       "    </tr>\n",
       "    <tr>\n",
       "      <th>1</th>\n",
       "      <td>0.603922</td>\n",
       "      <td>0.694118</td>\n",
       "      <td>0.733333</td>\n",
       "      <td>0.494118</td>\n",
       "      <td>0.537255</td>\n",
       "      <td>0.533333</td>\n",
       "      <td>0.411765</td>\n",
       "      <td>0.407843</td>\n",
       "      <td>0.372549</td>\n",
       "      <td>0.400000</td>\n",
       "      <td>...</td>\n",
       "      <td>0.560784</td>\n",
       "      <td>0.521569</td>\n",
       "      <td>0.545098</td>\n",
       "      <td>0.560784</td>\n",
       "      <td>0.525490</td>\n",
       "      <td>0.556863</td>\n",
       "      <td>0.560784</td>\n",
       "      <td>0.521569</td>\n",
       "      <td>0.564706</td>\n",
       "      <td>9</td>\n",
       "    </tr>\n",
       "    <tr>\n",
       "      <th>2</th>\n",
       "      <td>1.000000</td>\n",
       "      <td>1.000000</td>\n",
       "      <td>1.000000</td>\n",
       "      <td>0.992157</td>\n",
       "      <td>0.992157</td>\n",
       "      <td>0.992157</td>\n",
       "      <td>0.992157</td>\n",
       "      <td>0.992157</td>\n",
       "      <td>0.992157</td>\n",
       "      <td>0.992157</td>\n",
       "      <td>...</td>\n",
       "      <td>0.305882</td>\n",
       "      <td>0.333333</td>\n",
       "      <td>0.325490</td>\n",
       "      <td>0.309804</td>\n",
       "      <td>0.333333</td>\n",
       "      <td>0.325490</td>\n",
       "      <td>0.313725</td>\n",
       "      <td>0.337255</td>\n",
       "      <td>0.329412</td>\n",
       "      <td>9</td>\n",
       "    </tr>\n",
       "    <tr>\n",
       "      <th>3</th>\n",
       "      <td>0.109804</td>\n",
       "      <td>0.098039</td>\n",
       "      <td>0.039216</td>\n",
       "      <td>0.145098</td>\n",
       "      <td>0.133333</td>\n",
       "      <td>0.074510</td>\n",
       "      <td>0.149020</td>\n",
       "      <td>0.137255</td>\n",
       "      <td>0.078431</td>\n",
       "      <td>0.164706</td>\n",
       "      <td>...</td>\n",
       "      <td>0.211765</td>\n",
       "      <td>0.184314</td>\n",
       "      <td>0.109804</td>\n",
       "      <td>0.247059</td>\n",
       "      <td>0.219608</td>\n",
       "      <td>0.145098</td>\n",
       "      <td>0.282353</td>\n",
       "      <td>0.254902</td>\n",
       "      <td>0.180392</td>\n",
       "      <td>4</td>\n",
       "    </tr>\n",
       "    <tr>\n",
       "      <th>4</th>\n",
       "      <td>0.666667</td>\n",
       "      <td>0.705882</td>\n",
       "      <td>0.776471</td>\n",
       "      <td>0.658824</td>\n",
       "      <td>0.698039</td>\n",
       "      <td>0.768627</td>\n",
       "      <td>0.694118</td>\n",
       "      <td>0.725490</td>\n",
       "      <td>0.796078</td>\n",
       "      <td>0.717647</td>\n",
       "      <td>...</td>\n",
       "      <td>0.294118</td>\n",
       "      <td>0.309804</td>\n",
       "      <td>0.321569</td>\n",
       "      <td>0.278431</td>\n",
       "      <td>0.294118</td>\n",
       "      <td>0.305882</td>\n",
       "      <td>0.286275</td>\n",
       "      <td>0.301961</td>\n",
       "      <td>0.313725</td>\n",
       "      <td>1</td>\n",
       "    </tr>\n",
       "  </tbody>\n",
       "</table>\n",
       "<p>5 rows × 3073 columns</p>\n",
       "</div>"
      ],
      "text/plain": [
       "     pixel0    pixel1    pixel2    pixel3    pixel4    pixel5    pixel6  \\\n",
       "0  0.231373  0.243137  0.247059  0.168627  0.180392  0.176471  0.196078   \n",
       "1  0.603922  0.694118  0.733333  0.494118  0.537255  0.533333  0.411765   \n",
       "2  1.000000  1.000000  1.000000  0.992157  0.992157  0.992157  0.992157   \n",
       "3  0.109804  0.098039  0.039216  0.145098  0.133333  0.074510  0.149020   \n",
       "4  0.666667  0.705882  0.776471  0.658824  0.698039  0.768627  0.694118   \n",
       "\n",
       "     pixel7    pixel8    pixel9  ...  pixel3063  pixel3064  pixel3065  \\\n",
       "0  0.188235  0.168627  0.266667  ...   0.847059   0.721569   0.549020   \n",
       "1  0.407843  0.372549  0.400000  ...   0.560784   0.521569   0.545098   \n",
       "2  0.992157  0.992157  0.992157  ...   0.305882   0.333333   0.325490   \n",
       "3  0.137255  0.078431  0.164706  ...   0.211765   0.184314   0.109804   \n",
       "4  0.725490  0.796078  0.717647  ...   0.294118   0.309804   0.321569   \n",
       "\n",
       "   pixel3066  pixel3067  pixel3068  pixel3069  pixel3070  pixel3071  Label  \n",
       "0   0.592157   0.462745   0.329412   0.482353   0.360784   0.282353      6  \n",
       "1   0.560784   0.525490   0.556863   0.560784   0.521569   0.564706      9  \n",
       "2   0.309804   0.333333   0.325490   0.313725   0.337255   0.329412      9  \n",
       "3   0.247059   0.219608   0.145098   0.282353   0.254902   0.180392      4  \n",
       "4   0.278431   0.294118   0.305882   0.286275   0.301961   0.313725      1  \n",
       "\n",
       "[5 rows x 3073 columns]"
      ]
     },
     "execution_count": 7,
     "metadata": {},
     "output_type": "execute_result"
    }
   ],
   "source": [
    "df_cifar.head()"
   ]
  },
  {
   "cell_type": "code",
   "execution_count": 8,
   "id": "2b0748d7",
   "metadata": {},
   "outputs": [],
   "source": [
    "from sklearn.manifold import TSNE"
   ]
  },
  {
   "cell_type": "code",
   "execution_count": null,
   "id": "4f07c91d",
   "metadata": {},
   "outputs": [],
   "source": [
    "tsne = TSNE(n_components=3)\n",
    "tsn_cifar = tsne.fit_transform(df_cifar)"
   ]
  },
  {
   "cell_type": "code",
   "execution_count": null,
   "id": "d43209e4",
   "metadata": {},
   "outputs": [],
   "source": [
    "k_means = KMeans(init = \"k-means++\", n_clusters = 10, max_iter = 200)"
   ]
  },
  {
   "cell_type": "code",
   "execution_count": null,
   "id": "7dc5e375",
   "metadata": {},
   "outputs": [],
   "source": [
    "k_means.fit(tsn_cifar)"
   ]
  },
  {
   "cell_type": "code",
   "execution_count": null,
   "id": "e63a620e",
   "metadata": {},
   "outputs": [],
   "source": [
    "tsn_cifar.shape"
   ]
  },
  {
   "cell_type": "code",
   "execution_count": null,
   "id": "09afa3bf",
   "metadata": {},
   "outputs": [],
   "source": [
    "k_means_labels = k_means.labels_ #List of labels of each dataset\n",
    "print(\"The list of labels of the clusters are \" + str(np.unique(k_means_labels)))"
   ]
  },
  {
   "cell_type": "code",
   "execution_count": null,
   "id": "f6f50dd8",
   "metadata": {},
   "outputs": [],
   "source": [
    "G = len(np.unique(k_means_labels)) #Number of labels\n",
    "cluster_index= [[] for i in range(G)]\n",
    "for i, label in enumerate(k_means_labels,0):\n",
    "    for n in range(G):\n",
    "        if label == n:\n",
    "            cluster_index[n].append(i)\n",
    "        else:\n",
    "            continue     "
   ]
  },
  {
   "cell_type": "code",
   "execution_count": null,
   "id": "977a261a",
   "metadata": {},
   "outputs": [],
   "source": [
    "plt.figure(figsize=(15,15));\n",
    "clust = 4 #enter label number to visualise\n",
    "num = 100 #num of data to visualize from the cluster\n",
    "for i in range(1,num): \n",
    "    plt.subplot(10, 10, i); #(Number of rows, Number of column per row, item number)\n",
    "#     plt.imshow(x_train[cluster_index[clust][i+500]].reshape(-1, 32*32*3), cmap = plt.cm.binary);\n",
    "    plt.imshow(x_train[cluster_index[clust][i+500]].reshape(32,32,3), cmap = plt.cm.binary);\n",
    "    \n",
    "plt.show()"
   ]
  },
  {
   "cell_type": "code",
   "execution_count": null,
   "id": "d22eddc9",
   "metadata": {},
   "outputs": [],
   "source": [
    "Y_clust = [[] for i in range(G)]\n",
    "for n in range(G):\n",
    "    Y_clust[n] = y_train[cluster_index[n]] #Y_clust[0] contains array of \"correct\" category from y_train for the cluster_index[0]\n",
    "    assert(len(Y_clust[n]) == len(cluster_index[n])) #dimension confirmation"
   ]
  },
  {
   "cell_type": "code",
   "execution_count": null,
   "id": "faa32ec0",
   "metadata": {},
   "outputs": [],
   "source": [
    "#counts the number of each category in each cluster\n",
    "def counter(cluster):\n",
    "    unique, counts = np.unique(cluster, return_counts=True)\n",
    "    label_index = dict(zip(unique, counts))\n",
    "    return label_index"
   ]
  },
  {
   "cell_type": "code",
   "execution_count": null,
   "id": "16eb5641",
   "metadata": {},
   "outputs": [],
   "source": [
    "label_count= [[] for i in range(G)]\n",
    "for n in range(G):\n",
    "    label_count[n] = counter(Y_clust[n])\n",
    "\n",
    "label_count[1] #Number of items of a certain category in cluster 1"
   ]
  },
  {
   "cell_type": "code",
   "execution_count": null,
   "id": "0c6afa3c",
   "metadata": {},
   "outputs": [],
   "source": [
    "classes = ['airplane', 'automobile', 'bird', 'cat', 'deer', 'dog', 'frog', 'horse', 'ship', 'truck']  \n",
    "class_names = {0:'airplane', 1:'automobile',2: 'bird',3: 'cat',4: 'deer',5:\n",
    "               'dog',6: 'frog', 7:'horse',8:  'ship',9: 'truck'} #Dictionary of class names\n",
    "\n",
    "#A function to plot a bar graph for visualising the number of items of certain category in a cluster\n",
    "def plotter(label_dict):\n",
    "    plt.bar(range(len(label_dict)), list(label_dict.values()), align='center')\n",
    "    a = []\n",
    "    for i in [*label_dict]: a.append(class_names[i])\n",
    "    plt.xticks(range(len(label_dict)), list(a), rotation=45, rotation_mode='anchor')"
   ]
  },
  {
   "cell_type": "code",
   "execution_count": null,
   "id": "40fce30b",
   "metadata": {},
   "outputs": [],
   "source": [
    "#Bar graph with the number of items of different categories clustered in it\n",
    "plt.figure(figsize=(20,20))\n",
    "for i in range (1,11):\n",
    "    plt.subplot(5, 2, i)\n",
    "    plotter(label_count[i-1]) \n",
    "    plt.title(\"Cluster\" + str(i-1))"
   ]
  },
  {
   "cell_type": "code",
   "execution_count": null,
   "id": "7762f97d",
   "metadata": {},
   "outputs": [],
   "source": [
    "#cluster visualisation\n",
    "my_members = (k_means_labels == 4) #Enter different Cluster number to view its 3D plot\n",
    "my_members.shape\n",
    "fig = plt.figure(figsize=(15, 10))\n",
    "ax = fig.add_subplot(1,1,1,projection='3d')\n",
    "ax.plot(tsn_cifar[my_members, 0], tsn_cifar[my_members,1],tsn_cifar[my_members,2], 'w', markerfacecolor=\"blue\", marker='.',markersize=10)"
   ]
  },
  {
   "cell_type": "code",
   "execution_count": null,
   "id": "e7268f57",
   "metadata": {},
   "outputs": [],
   "source": [
    "import plotly as py\n",
    "import plotly.graph_objs as go\n",
    "import plotly.express as px"
   ]
  },
  {
   "cell_type": "code",
   "execution_count": null,
   "id": "4d2e186f",
   "metadata": {},
   "outputs": [],
   "source": [
    "#3D Plotly Visualisation of Clusters using go\n",
    "\n",
    "layout = go.Layout(\n",
    "    title='<b>Cluster Visualisation</b>',\n",
    "    yaxis=dict(\n",
    "        title='<i>Y</i>'\n",
    "    ),\n",
    "    xaxis=dict(\n",
    "        title='<i>X</i>'\n",
    "    )\n",
    ")\n",
    "\n",
    "colors = ['red','green' ,'blue','purple','magenta','yellow','cyan','maroon','teal','black']\n",
    "trace = [ go.Scatter3d() for _ in range(11)]\n",
    "for i in range(0,10):\n",
    "    my_members = (k_means_labels == i)\n",
    "    index = [h for h, g in enumerate(my_members) if g]\n",
    "    trace[i] = go.Scatter3d(\n",
    "            x=tsn_cifar[my_members, 0],\n",
    "            y=tsn_cifar[my_members, 1],\n",
    "            z=tsn_cifar[my_members, 2],\n",
    "            mode='markers',\n",
    "            marker = dict(size = 2,color = colors[i]),\n",
    "            hovertext=index,\n",
    "            name='Cluster'+str(i),\n",
    "   \n",
    "            )\n",
    "\n",
    "fig = go.Figure(data=[trace[0],trace[1],trace[2],trace[3],trace[4],trace[5],trace[6],trace[7],trace[8],trace[9]], layout=layout)\n",
    "    \n",
    "py.offline.iplot(fig)"
   ]
  },
  {
   "cell_type": "code",
   "execution_count": null,
   "id": "06609f57",
   "metadata": {},
   "outputs": [],
   "source": [
    "#If you hover over the points in the above plots you get an index value\n",
    "plt.figure(figsize=(2,2));\n",
    "n = 34658 #Use that value here to visualise the selected data\n",
    "plt.imshow(x_train[n].reshape(32, 32,3), cmap = plt.cm.binary)\n",
    "plt.show()"
   ]
  },
  {
   "cell_type": "code",
   "execution_count": null,
   "id": "ad286954",
   "metadata": {},
   "outputs": [],
   "source": [
    "from sklearn.metrics import silhouette_score, davies_bouldin_score\n",
    "score = silhouette_score(lda_cifar,k_means_labels)\n",
    "print('Silhouetter Score: %.3f' % score)"
   ]
  },
  {
   "cell_type": "code",
   "execution_count": null,
   "id": "eb7459a0",
   "metadata": {},
   "outputs": [],
   "source": [
    "davies_score=davies_bouldin_score(lda_cifar,k_means_labels)\n",
    "print('davies Score: %.3f' % davies_score)"
   ]
  },
  {
   "cell_type": "code",
   "execution_count": null,
   "id": "e8c2c858",
   "metadata": {},
   "outputs": [],
   "source": []
  }
 ],
 "metadata": {
  "kernelspec": {
   "display_name": "Python 3",
   "language": "python",
   "name": "python3"
  },
  "language_info": {
   "codemirror_mode": {
    "name": "ipython",
    "version": 3
   },
   "file_extension": ".py",
   "mimetype": "text/x-python",
   "name": "python",
   "nbconvert_exporter": "python",
   "pygments_lexer": "ipython3",
   "version": "3.8.16 (default, Jan 14 2023, 23:49:55) \n[Clang 14.0.0 (clang-1400.0.29.202)]"
  },
  "vscode": {
   "interpreter": {
    "hash": "70af1dc768050be11ad1fcaaa856790d1b28682c6945f1a42bba44d837d4b863"
   }
  }
 },
 "nbformat": 4,
 "nbformat_minor": 5
}
